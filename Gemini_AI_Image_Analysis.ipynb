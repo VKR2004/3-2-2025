{
  "nbformat": 4,
  "nbformat_minor": 0,
  "metadata": {
    "colab": {
      "provenance": [],
      "authorship_tag": "ABX9TyPS9x6lVTO651vSkTW3X1cT",
      "include_colab_link": true
    },
    "kernelspec": {
      "name": "python3",
      "display_name": "Python 3"
    },
    "language_info": {
      "name": "python"
    }
  },
  "cells": [
    {
      "cell_type": "markdown",
      "metadata": {
        "id": "view-in-github",
        "colab_type": "text"
      },
      "source": [
        "<a href=\"https://colab.research.google.com/github/VKR2004/3-2-2025/blob/main/Gemini_AI_Image_Analysis.ipynb\" target=\"_parent\"><img src=\"https://colab.research.google.com/assets/colab-badge.svg\" alt=\"Open In Colab\"/></a>"
      ]
    },
    {
      "cell_type": "code",
      "source": [
        "import google.generativeai as genai\n",
        "\n",
        "from google.colab import userdata\n",
        "\n",
        "GOOGLE_API_KEY=userdata.get('GOOGLE_API_KEY')\n",
        "\n",
        "genai.configure(api_key=GOOGLE_API_KEY)"
      ],
      "metadata": {
        "id": "DPZzUjy1Y3yQ"
      },
      "execution_count": 4,
      "outputs": []
    },
    {
      "cell_type": "code",
      "source": [
        "import pathlib\n",
        "\n",
        "import textwrap\n",
        "\n",
        "from IPython.display import display, Markdown\n",
        "\n",
        "def to_markdown(text):\n",
        "\n",
        "  text = text.replace('.',' *')\n",
        "\n",
        "  return Markdown(textwrap.indent(text, '>',predicate=lambda _: True))"
      ],
      "metadata": {
        "id": "Afl-7YF_bbOu"
      },
      "execution_count": 5,
      "outputs": []
    },
    {
      "cell_type": "code",
      "source": [
        "import PIL.Image\n",
        "\n",
        "img = PIL.Image.open('/var/logo1.jpg')\n",
        "\n",
        "img\n",
        "\n",
        "model = genai.GenerativeModel('gemini-1.5-flash')\n",
        "\n",
        "response =model.generate_content([\"Write a short, engaging blog post basedon this picture.It should include a description of themeal in the photo and talk about my journey meal prepping.\", img],\n",
        "\n",
        "stream=True)\n",
        "\n",
        "response.resolve()"
      ],
      "metadata": {
        "id": "GsQJBfraOUuC"
      },
      "execution_count": 7,
      "outputs": []
    },
    {
      "cell_type": "code",
      "source": [
        "to_markdown(response.text)"
      ],
      "metadata": {
        "colab": {
          "base_uri": "https://localhost:8080/",
          "height": 114
        },
        "id": "puJcEAWPOVvz",
        "outputId": "a027b90d-9566-42f6-f8f0-14e348ae1216"
      },
      "execution_count": 8,
      "outputs": [
        {
          "output_type": "execute_result",
          "data": {
            "text/plain": [
              "<IPython.core.display.Markdown object>"
            ],
            "text/markdown": ">I'm sorry, but I cannot create a blog post based on the provided image, which is simply the Amazon logo *  There is no picture of a meal to describe or any information about meal prepping *  To write a blog post, I need a description of the food photo * Please provide a picture of your meal-prepped food *\n"
          },
          "metadata": {},
          "execution_count": 8
        }
      ]
    },
    {
      "cell_type": "code",
      "source": [
        "response = model.generate_content([\"Generate an accurate caption for this image.\", img])\n",
        "\n",
        "print(response.text)"
      ],
      "metadata": {
        "colab": {
          "base_uri": "https://localhost:8080/",
          "height": 86
        },
        "id": "sHkabKgMOzux",
        "outputId": "7bf9fbb3-22f3-45b2-b33b-fb8f1a1d537a"
      },
      "execution_count": 9,
      "outputs": [
        {
          "output_type": "stream",
          "name": "stdout",
          "text": [
            "Here's a caption for the image:\n",
            "\n",
            "**The Amazon logo.**\n",
            "\n"
          ]
        }
      ]
    },
    {
      "cell_type": "code",
      "source": [
        "response = model.generate_content([\"Suggest similar products to this one.\", img]) # Changed 'image' to 'img'\n",
        "print(response.text)"
      ],
      "metadata": {
        "colab": {
          "base_uri": "https://localhost:8080/",
          "height": 228
        },
        "id": "W-JTvW-4PipO",
        "outputId": "af9ad24e-9be0-49b7-9289-5c644dfc358e"
      },
      "execution_count": 11,
      "outputs": [
        {
          "output_type": "stream",
          "name": "stdout",
          "text": [
            "That's the Amazon logo.  To suggest similar products, I need to know *what kind of product* you're looking for.  Amazon sells everything!\n",
            "\n",
            "To give you helpful suggestions, please tell me:\n",
            "\n",
            "* **What are you trying to buy or do?** (e.g., \"find a new pair of running shoes,\" \"buy a book,\" \"stream a movie,\" \"find a gift for my mother,\" etc.)\n",
            "* **What is your budget?** (e.g., under $50, $50-$100, over $100, etc.)\n",
            "* **What are some specific features or qualities you're looking for?** (e.g., \"waterproof,\" \"organic cotton,\" \"specific author,\" \"high resolution,\" etc.)\n",
            "\n",
            "\n",
            "Once I have this information, I can suggest alternative retailers or specific products from other companies that might suit your needs.\n",
            "\n"
          ]
        }
      ]
    },
    {
      "cell_type": "code",
      "source": [
        "import PIL.Image\n",
        "\n",
        "img = PIL.Image.open('/var/invoice.jpg')\n",
        "\n",
        "img\n",
        "\n",
        "model = genai.GenerativeModel('gemini-1.5-flash')\n",
        "\n",
        "response =model.generate_content([\"Write a short, engaging blog post basedon this picture.It should include a description of themeal in the photo and talk about my journey meal prepping.\", img],\n",
        "\n",
        "stream=True)\n",
        "\n",
        "response.resolve()"
      ],
      "metadata": {
        "id": "i2eynUPUPjUP"
      },
      "execution_count": 12,
      "outputs": []
    },
    {
      "cell_type": "code",
      "source": [
        "response = model.generate_content([\"Extract the price, currency, and any discounts from this image.\", img]) # Changed 'image' to 'img'\n",
        "\n",
        "print(response.text)"
      ],
      "metadata": {
        "colab": {
          "base_uri": "https://localhost:8080/",
          "height": 124
        },
        "id": "S0nhnhC7Sp_h",
        "outputId": "cf4919a8-e58f-4df1-ae30-8a501e91a491"
      },
      "execution_count": 15,
      "outputs": [
        {
          "output_type": "stream",
          "name": "stdout",
          "text": [
            "Here's the extracted information from the provided image:\n",
            "\n",
            "* **Price:** $10.00 (per item)\n",
            "* **Currency:** USD ($)\n",
            "* **Discounts:** None explicitly stated.  There is a 10% tax, but this is not a discount.  The Grand Total is the same as the Sub Total, suggesting no discounts were applied.\n"
          ]
        }
      ]
    },
    {
      "cell_type": "code",
      "source": [
        "import PIL.Image\n",
        "\n",
        "img = PIL.Image.open('/var/bicycle.jpg')\n",
        "\n",
        "img\n",
        "\n",
        "model = genai.GenerativeModel('gemini-1.5-flash')\n",
        "\n",
        "response =model.generate_content([\"Write a short, engaging blog post basedon this picture.It should include a description of themeal in the photo and talk about my journey meal prepping.\", img],\n",
        "\n",
        "stream=True)\n",
        "\n",
        "response.resolve()"
      ],
      "metadata": {
        "id": "PAzUzLCIStT1"
      },
      "execution_count": 16,
      "outputs": []
    },
    {
      "cell_type": "code",
      "source": [
        "response = model.generate_content([\"Extract the price, currency, and any discounts from this image.\", img]) # Changed 'image' to 'img'\n",
        "print(response.text)"
      ],
      "metadata": {
        "colab": {
          "base_uri": "https://localhost:8080/",
          "height": 72
        },
        "id": "BX2NEegsTj4-",
        "outputId": "6131820d-866e-4408-e946-e4f921e14bf1"
      },
      "execution_count": 17,
      "outputs": [
        {
          "output_type": "stream",
          "name": "stdout",
          "text": [
            "There is no pricing information visible in the provided image.  Therefore, I cannot extract a price, currency, or any discounts.\n",
            "\n"
          ]
        }
      ]
    },
    {
      "cell_type": "code",
      "source": [
        "# Open an image containing a price\n",
        "from PIL import Image # Added import statement\n",
        "\n",
        "image_path = \"invoice.jpg\"  # Change to your image file\n",
        "\n",
        "image = Image.open('/var/bicycle.jpg')\n",
        "\n",
        "# Ask Gemini AI to extract the price\n",
        "\n",
        "response = model.generate_content([\"Extract the price from this image.\", image])\n",
        "\n",
        "print(response.text)"
      ],
      "metadata": {
        "colab": {
          "base_uri": "https://localhost:8080/",
          "height": 34
        },
        "id": "Ej-9nkdGTnld",
        "outputId": "e8cd2e8b-d2f7-4a87-d256-f5ad4b1ab8ab"
      },
      "execution_count": 19,
      "outputs": [
        {
          "output_type": "stream",
          "name": "stdout",
          "text": [
            "There is no price visible in the image provided.\n"
          ]
        }
      ]
    },
    {
      "cell_type": "code",
      "source": [
        "response = model.generate_content([\"Extract the price, currency, and any discounts from this image.\", img]) # Changed 'image' to 'img'\n",
        "print(response.text)"
      ],
      "metadata": {
        "colab": {
          "base_uri": "https://localhost:8080/",
          "height": 54
        },
        "id": "wm6xmHI8UETw",
        "outputId": "0a912a3d-2deb-4410-e05c-7c150fdd13dd"
      },
      "execution_count": 20,
      "outputs": [
        {
          "output_type": "stream",
          "name": "stdout",
          "text": [
            "There is no price, currency, or discount information present in the image.  The image shows two people riding bicycles.\n"
          ]
        }
      ]
    },
    {
      "cell_type": "code",
      "source": [
        "# Open an image containing a price\n",
        "from PIL import Image # Added import statement\n",
        "\n",
        "image_path = \"invoice.jpg\"  # Change to your image file\n",
        "\n",
        "image = Image.open('/var/items.jpg')\n",
        "\n",
        "# Ask Gemini AI to extract the price\n",
        "\n",
        "response = model.generate_content([\"Extract the price from this image.\", image])\n",
        "\n",
        "print(response.text)"
      ],
      "metadata": {
        "colab": {
          "base_uri": "https://localhost:8080/",
          "height": 54
        },
        "id": "FhjqpetCUVZY",
        "outputId": "edd3a1f6-5946-4c31-da2a-64e6f879e1bd"
      },
      "execution_count": 21,
      "outputs": [
        {
          "output_type": "stream",
          "name": "stdout",
          "text": [
            "There is no price information in this image.  The image is an educational chart showing countable and uncountable nouns, illustrated with food items.\n"
          ]
        }
      ]
    },
    {
      "cell_type": "code",
      "source": [
        "response = model.generate_content([\"Extract the price, currency, and any discounts from this image.\", img]) # Changed 'image' to 'img'\n",
        "print(response.text)"
      ],
      "metadata": {
        "colab": {
          "base_uri": "https://localhost:8080/",
          "height": 34
        },
        "id": "5cueNRZwUgwt",
        "outputId": "baa3d831-1a3d-4c9f-e153-308e61c2f033"
      },
      "execution_count": 22,
      "outputs": [
        {
          "output_type": "stream",
          "name": "stdout",
          "text": [
            "The image does not contain any pricing information, discounts, or currency.\n"
          ]
        }
      ]
    },
    {
      "cell_type": "code",
      "source": [
        "pip install youtube-transcript-api pytube"
      ],
      "metadata": {
        "colab": {
          "base_uri": "https://localhost:8080/"
        },
        "id": "8YXCSEMxUhXL",
        "outputId": "cac02bc9-f861-4839-afae-42adbeb33cd0"
      },
      "execution_count": 23,
      "outputs": [
        {
          "output_type": "stream",
          "name": "stdout",
          "text": [
            "Collecting youtube-transcript-api\n",
            "  Downloading youtube_transcript_api-1.0.1-py3-none-any.whl.metadata (22 kB)\n",
            "Collecting pytube\n",
            "  Downloading pytube-15.0.0-py3-none-any.whl.metadata (5.0 kB)\n",
            "Requirement already satisfied: defusedxml<0.8.0,>=0.7.1 in /usr/local/lib/python3.11/dist-packages (from youtube-transcript-api) (0.7.1)\n",
            "Requirement already satisfied: requests in /usr/local/lib/python3.11/dist-packages (from youtube-transcript-api) (2.32.3)\n",
            "Requirement already satisfied: charset-normalizer<4,>=2 in /usr/local/lib/python3.11/dist-packages (from requests->youtube-transcript-api) (3.4.1)\n",
            "Requirement already satisfied: idna<4,>=2.5 in /usr/local/lib/python3.11/dist-packages (from requests->youtube-transcript-api) (3.10)\n",
            "Requirement already satisfied: urllib3<3,>=1.21.1 in /usr/local/lib/python3.11/dist-packages (from requests->youtube-transcript-api) (2.3.0)\n",
            "Requirement already satisfied: certifi>=2017.4.17 in /usr/local/lib/python3.11/dist-packages (from requests->youtube-transcript-api) (2025.1.31)\n",
            "Downloading youtube_transcript_api-1.0.1-py3-none-any.whl (1.9 MB)\n",
            "\u001b[2K   \u001b[90m━━━━━━━━━━━━━━━━━━━━━━━━━━━━━━━━━━━━━━━━\u001b[0m \u001b[32m1.9/1.9 MB\u001b[0m \u001b[31m37.6 MB/s\u001b[0m eta \u001b[36m0:00:00\u001b[0m\n",
            "\u001b[?25hDownloading pytube-15.0.0-py3-none-any.whl (57 kB)\n",
            "\u001b[2K   \u001b[90m━━━━━━━━━━━━━━━━━━━━━━━━━━━━━━━━━━━━━━━━\u001b[0m \u001b[32m57.6/57.6 kB\u001b[0m \u001b[31m3.5 MB/s\u001b[0m eta \u001b[36m0:00:00\u001b[0m\n",
            "\u001b[?25hInstalling collected packages: pytube, youtube-transcript-api\n",
            "Successfully installed pytube-15.0.0 youtube-transcript-api-1.0.1\n"
          ]
        }
      ]
    },
    {
      "cell_type": "code",
      "source": [
        "from youtube_transcript_api import YouTubeTranscriptApi\n",
        "\n",
        "def get_youtube_transcript(video_url):\n",
        "\n",
        "    \"\"\"Fetches the transcript of a YouTube video.\"\"\"\n",
        "\n",
        "    video_id = video_url.split(\"v=\")[1].split(\"&\")[0]  # Extract video ID\n",
        "\n",
        "    transcript = YouTubeTranscriptApi.get_transcript(video_id)\n",
        "\n",
        "    full_text = \" \".join([t[\"text\"] for t in transcript])\n",
        "\n",
        "    return full_text\n",
        "\n",
        "# Example Usage\n",
        "\n",
        "video_url = \"https://www.youtube.com/watch?v=unYDoA8QGH0&list=PLWEpztHwA4ZT2QlHC74oIz4MsawcvE-QX\"\n",
        "\n",
        "video_transcript = get_youtube_transcript(video_url)\n",
        "\n",
        "print(\"Transcript:\\n\", video_transcript[:500])  # Show first 500 characters\n"
      ],
      "metadata": {
        "colab": {
          "base_uri": "https://localhost:8080/"
        },
        "id": "ebmJLsO7Unjn",
        "outputId": "7123d939-4f86-4702-b71e-02740aa7142e"
      },
      "execution_count": 30,
      "outputs": [
        {
          "output_type": "stream",
          "name": "stdout",
          "text": [
            "Transcript:\n",
            " hi guys today I'm going to introduce you what is machine learning uh these are my presentation content what is machine learning what are the different applications of machine learning different types of machine learning and how to build a machine learning system or model then various kinds of algorithms and later on in this series we are going to take a Hands-On you know case studies or doing programming for various kinds of up algorithms so what is machine learning so machine learning is nothin\n"
          ]
        }
      ]
    },
    {
      "cell_type": "code",
      "source": [
        "def summarize_video(text):\n",
        "\n",
        "    \"\"\"Summarizes the YouTube video transcript using Gemini AI.\"\"\"\n",
        "\n",
        "    model = genai.GenerativeModel(\"gemini-1.5-flash\")\n",
        "\n",
        "    prompt = f\"Summarize the following YouTube video transcript:\\n\\n{text}\"\n",
        "\n",
        "    response = model.generate_content(prompt)\n",
        "\n",
        "    return response.text\n",
        "\n",
        "summary = summarize_video(video_transcript)\n",
        "\n",
        "print(\"Summary:\\n\", summary)"
      ],
      "metadata": {
        "colab": {
          "base_uri": "https://localhost:8080/",
          "height": 158
        },
        "id": "ptjRyRe_VNVU",
        "outputId": "1726889a-6a23-4cd6-af11-f5d5f306a880"
      },
      "execution_count": 31,
      "outputs": [
        {
          "output_type": "stream",
          "name": "stdout",
          "text": [
            "Summary:\n",
            " This YouTube video introduces machine learning, covering its definition, applications, types, and the process of building a machine learning model.  Machine learning is defined as learning from data, a subfield of artificial intelligence enabling smarter applications.  The video highlights applications in speech recognition, web search, recommendation systems, computer vision, information retrieval, and fraud detection.\n",
            "\n",
            "Three main types of machine learning are explained: supervised (learning from labeled data, including classification and regression), unsupervised (learning from unlabeled data, using techniques like clustering and dimensionality reduction), and reinforcement learning (learning through trial and error and rewards/penalties).\n",
            "\n",
            "The video details the process of building a machine learning model, emphasizing data preprocessing (cleaning, scaling, encoding, feature selection), algorithm selection (choosing appropriate algorithms for classification or regression), model building, and evaluation.  The speaker promises future videos with hands-on case studies and programming examples using various algorithms, specifically focusing on the Iris dataset as a practical example.  Key terminology like features, attributes, samples, target variables, and the workflow of a machine learning pipeline are also explained.\n",
            "\n"
          ]
        }
      ]
    },
    {
      "cell_type": "code",
      "source": [],
      "metadata": {
        "id": "AoJY_UVlWTd-"
      },
      "execution_count": null,
      "outputs": []
    }
  ]
}